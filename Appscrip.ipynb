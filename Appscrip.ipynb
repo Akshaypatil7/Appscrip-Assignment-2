{
 "cells": [
  {
   "cell_type": "code",
   "execution_count": 2,
   "metadata": {},
   "outputs": [],
   "source": [
    "import os\n",
    "import pandas as pd\n",
    "import numpy as np\n",
    "import matplotlib.pyplot as plt\n",
    "import string\n",
    "punctuations = string.punctuation\n",
    "# from xgboost import XGBClassifier\n",
    "# import xgboost as xgb\n",
    "from sklearn.pipeline import Pipeline\n",
    "from sklearn.feature_extraction.text import CountVectorizer\n",
    "from sklearn.feature_extraction.text import TfidfTransformer\n",
    "import seaborn as sns\n",
    "from spacy.lang.en import English\n",
    "from spacy.lang.en.stop_words import STOP_WORDS\n",
    "stop_words = STOP_WORDS\n",
    "from sklearn.base import TransformerMixin\n",
    "from sklearn.feature_extraction.text import TfidfVectorizer \n",
    "from sklearn.model_selection import train_test_split\n",
    "from sklearn import metrics\n",
    "import re\n",
    "from tqdm import tqdm\n",
    "from sklearn.linear_model import LogisticRegression\n",
    "from sklearn.ensemble import RandomForestClassifier\n",
    "from sklearn.svm import LinearSVC\n",
    "from sklearn.model_selection import cross_val_score\n",
    "from sklearn.feature_selection import SelectKBest, chi2\n",
    "from sklearn.model_selection import GridSearchCV"
   ]
  },
  {
   "cell_type": "code",
   "execution_count": 3,
   "metadata": {},
   "outputs": [],
   "source": [
    "# read the csv file\n",
    "df = pd.read_csv('C:/Users/admin/Downloads/newsorg.csv/newsorg.csv', skipinitialspace=True)"
   ]
  },
  {
   "cell_type": "code",
   "execution_count": 3,
   "metadata": {
    "scrolled": true
   },
   "outputs": [
    {
     "data": {
      "text/html": [
       "<div>\n",
       "<style scoped>\n",
       "    .dataframe tbody tr th:only-of-type {\n",
       "        vertical-align: middle;\n",
       "    }\n",
       "\n",
       "    .dataframe tbody tr th {\n",
       "        vertical-align: top;\n",
       "    }\n",
       "\n",
       "    .dataframe thead th {\n",
       "        text-align: right;\n",
       "    }\n",
       "</style>\n",
       "<table border=\"1\" class=\"dataframe\">\n",
       "  <thead>\n",
       "    <tr style=\"text-align: right;\">\n",
       "      <th></th>\n",
       "      <th>title</th>\n",
       "      <th>description</th>\n",
       "      <th>category</th>\n",
       "    </tr>\n",
       "  </thead>\n",
       "  <tbody>\n",
       "    <tr>\n",
       "      <th>0</th>\n",
       "      <td>Kiara Advani is a vision in white plunging nec...</td>\n",
       "      <td>Kiara Advani's fashion game has been on point ...</td>\n",
       "      <td>entertainment</td>\n",
       "    </tr>\n",
       "    <tr>\n",
       "      <th>1</th>\n",
       "      <td>Pankhuri Awasthy on doing Yeh Rishta Kya Kehla...</td>\n",
       "      <td>Pankhuri Awasthy is all set to make a comeback...</td>\n",
       "      <td>entertainment</td>\n",
       "    </tr>\n",
       "    <tr>\n",
       "      <th>2</th>\n",
       "      <td>Posters for Ekta Kapoor's Mangalyaan Series Do...</td>\n",
       "      <td>One poster shows the show’s protagonists flank...</td>\n",
       "      <td>entertainment</td>\n",
       "    </tr>\n",
       "    <tr>\n",
       "      <th>3</th>\n",
       "      <td>Sonakshi Sinha’s new film gets a title, Khanda...</td>\n",
       "      <td>Directed by Shilpi Dasgupta, Sonakshi Sinha’s ...</td>\n",
       "      <td>entertainment</td>\n",
       "    </tr>\n",
       "    <tr>\n",
       "      <th>4</th>\n",
       "      <td>Is Samantha Doing Another Cameo For Akkinenis?...</td>\n",
       "      <td>Already Samantha has acted in Nagarjuna's Raju...</td>\n",
       "      <td>entertainment</td>\n",
       "    </tr>\n",
       "  </tbody>\n",
       "</table>\n",
       "</div>"
      ],
      "text/plain": [
       "                                               title  \\\n",
       "0  Kiara Advani is a vision in white plunging nec...   \n",
       "1  Pankhuri Awasthy on doing Yeh Rishta Kya Kehla...   \n",
       "2  Posters for Ekta Kapoor's Mangalyaan Series Do...   \n",
       "3  Sonakshi Sinha’s new film gets a title, Khanda...   \n",
       "4  Is Samantha Doing Another Cameo For Akkinenis?...   \n",
       "\n",
       "                                         description       category  \n",
       "0  Kiara Advani's fashion game has been on point ...  entertainment  \n",
       "1  Pankhuri Awasthy is all set to make a comeback...  entertainment  \n",
       "2  One poster shows the show’s protagonists flank...  entertainment  \n",
       "3  Directed by Shilpi Dasgupta, Sonakshi Sinha’s ...  entertainment  \n",
       "4  Already Samantha has acted in Nagarjuna's Raju...  entertainment  "
      ]
     },
     "execution_count": 3,
     "metadata": {},
     "output_type": "execute_result"
    }
   ],
   "source": [
    "df.head()"
   ]
  },
  {
   "cell_type": "code",
   "execution_count": 4,
   "metadata": {
    "scrolled": false
   },
   "outputs": [
    {
     "data": {
      "text/plain": [
       "entertainment    18251\n",
       "general          16218\n",
       "sports           15603\n",
       "business         14277\n",
       "technology       13943\n",
       "health            9093\n",
       "science           7211\n",
       "automotive        2151\n",
       "ent_regional      1976\n",
       "ent_tv             651\n",
       "gaming             337\n",
       "national           232\n",
       "international       57\n",
       "Name: category, dtype: int64"
      ]
     },
     "execution_count": 4,
     "metadata": {},
     "output_type": "execute_result"
    }
   ],
   "source": [
    "# let's see count of each category\n",
    "df['category'].value_counts()"
   ]
  },
  {
   "cell_type": "code",
   "execution_count": 5,
   "metadata": {},
   "outputs": [
    {
     "data": {
      "text/plain": [
       "array(['entertainment', 'business', 'general', 'health', 'science',\n",
       "       'sports', 'technology', 'automotive', 'ent_regional', 'ent_tv',\n",
       "       'gaming', 'national', 'international'], dtype=object)"
      ]
     },
     "execution_count": 5,
     "metadata": {},
     "output_type": "execute_result"
    }
   ],
   "source": [
    "df.category.unique()"
   ]
  },
  {
   "cell_type": "code",
   "execution_count": 6,
   "metadata": {},
   "outputs": [],
   "source": [
    "grouped_data = df.groupby('category')"
   ]
  },
  {
   "cell_type": "code",
   "execution_count": 7,
   "metadata": {},
   "outputs": [
    {
     "data": {
      "text/html": [
       "<div>\n",
       "<style scoped>\n",
       "    .dataframe tbody tr th:only-of-type {\n",
       "        vertical-align: middle;\n",
       "    }\n",
       "\n",
       "    .dataframe tbody tr th {\n",
       "        vertical-align: top;\n",
       "    }\n",
       "\n",
       "    .dataframe thead tr th {\n",
       "        text-align: left;\n",
       "    }\n",
       "\n",
       "    .dataframe thead tr:last-of-type th {\n",
       "        text-align: right;\n",
       "    }\n",
       "</style>\n",
       "<table border=\"1\" class=\"dataframe\">\n",
       "  <thead>\n",
       "    <tr>\n",
       "      <th></th>\n",
       "      <th colspan=\"4\" halign=\"left\">title</th>\n",
       "      <th colspan=\"4\" halign=\"left\">description</th>\n",
       "    </tr>\n",
       "    <tr>\n",
       "      <th></th>\n",
       "      <th>count</th>\n",
       "      <th>unique</th>\n",
       "      <th>top</th>\n",
       "      <th>freq</th>\n",
       "      <th>count</th>\n",
       "      <th>unique</th>\n",
       "      <th>top</th>\n",
       "      <th>freq</th>\n",
       "    </tr>\n",
       "    <tr>\n",
       "      <th>category</th>\n",
       "      <th></th>\n",
       "      <th></th>\n",
       "      <th></th>\n",
       "      <th></th>\n",
       "      <th></th>\n",
       "      <th></th>\n",
       "      <th></th>\n",
       "      <th></th>\n",
       "    </tr>\n",
       "  </thead>\n",
       "  <tbody>\n",
       "    <tr>\n",
       "      <th>automotive</th>\n",
       "      <td>2151</td>\n",
       "      <td>2151</td>\n",
       "      <td>Tata Harrier Dark Edition Launched At Rs. 16.7...</td>\n",
       "      <td>1</td>\n",
       "      <td>2111</td>\n",
       "      <td>2027</td>\n",
       "      <td>- Overdrive</td>\n",
       "      <td>25</td>\n",
       "    </tr>\n",
       "    <tr>\n",
       "      <th>business</th>\n",
       "      <td>14277</td>\n",
       "      <td>14277</td>\n",
       "      <td>Indiabulls Finance to buyback ₹2,705 cr of NCD...</td>\n",
       "      <td>1</td>\n",
       "      <td>13579</td>\n",
       "      <td>12957</td>\n",
       "      <td>Watch this space as we bring you LIVE updates ...</td>\n",
       "      <td>26</td>\n",
       "    </tr>\n",
       "    <tr>\n",
       "      <th>ent_regional</th>\n",
       "      <td>1976</td>\n",
       "      <td>1976</td>\n",
       "      <td>Breaking: The Epic Is Back On Track! - Mirchi9</td>\n",
       "      <td>1</td>\n",
       "      <td>1949</td>\n",
       "      <td>1919</td>\n",
       "      <td>The third season of the TV reality show, Bigg ...</td>\n",
       "      <td>4</td>\n",
       "    </tr>\n",
       "    <tr>\n",
       "      <th>ent_tv</th>\n",
       "      <td>651</td>\n",
       "      <td>651</td>\n",
       "      <td>Yeh Rishta Kya Kehlata Hai: Kairav to follow K...</td>\n",
       "      <td>1</td>\n",
       "      <td>646</td>\n",
       "      <td>625</td>\n",
       "      <td>MUMBAI: The ongoing track of Yeh Rishta Kya Ke...</td>\n",
       "      <td>8</td>\n",
       "    </tr>\n",
       "    <tr>\n",
       "      <th>entertainment</th>\n",
       "      <td>18251</td>\n",
       "      <td>18251</td>\n",
       "      <td>Sam Manekshaw, the general who told Indira whe...</td>\n",
       "      <td>1</td>\n",
       "      <td>18002</td>\n",
       "      <td>17366</td>\n",
       "      <td>Bollywood &amp; Hollywood Photo Gallery – Check ou...</td>\n",
       "      <td>74</td>\n",
       "    </tr>\n",
       "    <tr>\n",
       "      <th>gaming</th>\n",
       "      <td>337</td>\n",
       "      <td>337</td>\n",
       "      <td>Xbox Games With Gold August 2019 Free Games Re...</td>\n",
       "      <td>1</td>\n",
       "      <td>333</td>\n",
       "      <td>295</td>\n",
       "      <td>Whether you're just starting or already 40 hou...</td>\n",
       "      <td>5</td>\n",
       "    </tr>\n",
       "    <tr>\n",
       "      <th>general</th>\n",
       "      <td>16218</td>\n",
       "      <td>16218</td>\n",
       "      <td>Bodies of woman and child trapped in Malappura...</td>\n",
       "      <td>1</td>\n",
       "      <td>15860</td>\n",
       "      <td>15223</td>\n",
       "      <td>The biggest stories of the day.</td>\n",
       "      <td>10</td>\n",
       "    </tr>\n",
       "    <tr>\n",
       "      <th>health</th>\n",
       "      <td>9093</td>\n",
       "      <td>9093</td>\n",
       "      <td>1 In 8 Women Struggle With Infertility: Why Do...</td>\n",
       "      <td>1</td>\n",
       "      <td>8336</td>\n",
       "      <td>7989</td>\n",
       "      <td>Following is a summary of current health news ...</td>\n",
       "      <td>10</td>\n",
       "    </tr>\n",
       "    <tr>\n",
       "      <th>international</th>\n",
       "      <td>57</td>\n",
       "      <td>57</td>\n",
       "      <td>Watch: Pakistan minister Sheikh Rashid gets el...</td>\n",
       "      <td>1</td>\n",
       "      <td>57</td>\n",
       "      <td>57</td>\n",
       "      <td>Madeleine Westerhout lost her job as director ...</td>\n",
       "      <td>1</td>\n",
       "    </tr>\n",
       "    <tr>\n",
       "      <th>national</th>\n",
       "      <td>232</td>\n",
       "      <td>232</td>\n",
       "      <td>Politics live: Centre should have brought law ...</td>\n",
       "      <td>1</td>\n",
       "      <td>230</td>\n",
       "      <td>216</td>\n",
       "      <td>The ballistic missile is capable of delivering...</td>\n",
       "      <td>3</td>\n",
       "    </tr>\n",
       "    <tr>\n",
       "      <th>science</th>\n",
       "      <td>7211</td>\n",
       "      <td>7211</td>\n",
       "      <td>Solar-sailing satellite proves it can use ligh...</td>\n",
       "      <td>1</td>\n",
       "      <td>6454</td>\n",
       "      <td>6179</td>\n",
       "      <td>%</td>\n",
       "      <td>18</td>\n",
       "    </tr>\n",
       "    <tr>\n",
       "      <th>sports</th>\n",
       "      <td>15603</td>\n",
       "      <td>15603</td>\n",
       "      <td>Novak Djokovic gives surprising response to Ni...</td>\n",
       "      <td>1</td>\n",
       "      <td>14715</td>\n",
       "      <td>13722</td>\n",
       "      <td>Read more…</td>\n",
       "      <td>35</td>\n",
       "    </tr>\n",
       "    <tr>\n",
       "      <th>technology</th>\n",
       "      <td>13943</td>\n",
       "      <td>13943</td>\n",
       "      <td>Threadripper ain't dead: 64C/128T monster comi...</td>\n",
       "      <td>1</td>\n",
       "      <td>13428</td>\n",
       "      <td>12930</td>\n",
       "      <td>Mashable is a global, multi-platform media and...</td>\n",
       "      <td>11</td>\n",
       "    </tr>\n",
       "  </tbody>\n",
       "</table>\n",
       "</div>"
      ],
      "text/plain": [
       "               title         \\\n",
       "               count unique   \n",
       "category                      \n",
       "automotive      2151   2151   \n",
       "business       14277  14277   \n",
       "ent_regional    1976   1976   \n",
       "ent_tv           651    651   \n",
       "entertainment  18251  18251   \n",
       "gaming           337    337   \n",
       "general        16218  16218   \n",
       "health          9093   9093   \n",
       "international     57     57   \n",
       "national         232    232   \n",
       "science         7211   7211   \n",
       "sports         15603  15603   \n",
       "technology     13943  13943   \n",
       "\n",
       "                                                                       \\\n",
       "                                                             top freq   \n",
       "category                                                                \n",
       "automotive     Tata Harrier Dark Edition Launched At Rs. 16.7...    1   \n",
       "business       Indiabulls Finance to buyback ₹2,705 cr of NCD...    1   \n",
       "ent_regional      Breaking: The Epic Is Back On Track! - Mirchi9    1   \n",
       "ent_tv         Yeh Rishta Kya Kehlata Hai: Kairav to follow K...    1   \n",
       "entertainment  Sam Manekshaw, the general who told Indira whe...    1   \n",
       "gaming         Xbox Games With Gold August 2019 Free Games Re...    1   \n",
       "general        Bodies of woman and child trapped in Malappura...    1   \n",
       "health         1 In 8 Women Struggle With Infertility: Why Do...    1   \n",
       "international  Watch: Pakistan minister Sheikh Rashid gets el...    1   \n",
       "national       Politics live: Centre should have brought law ...    1   \n",
       "science        Solar-sailing satellite proves it can use ligh...    1   \n",
       "sports         Novak Djokovic gives surprising response to Ni...    1   \n",
       "technology     Threadripper ain't dead: 64C/128T monster comi...    1   \n",
       "\n",
       "              description         \\\n",
       "                    count unique   \n",
       "category                           \n",
       "automotive           2111   2027   \n",
       "business            13579  12957   \n",
       "ent_regional         1949   1919   \n",
       "ent_tv                646    625   \n",
       "entertainment       18002  17366   \n",
       "gaming                333    295   \n",
       "general             15860  15223   \n",
       "health               8336   7989   \n",
       "international          57     57   \n",
       "national              230    216   \n",
       "science              6454   6179   \n",
       "sports              14715  13722   \n",
       "technology          13428  12930   \n",
       "\n",
       "                                                                       \n",
       "                                                             top freq  \n",
       "category                                                               \n",
       "automotive                                           - Overdrive   25  \n",
       "business       Watch this space as we bring you LIVE updates ...   26  \n",
       "ent_regional   The third season of the TV reality show, Bigg ...    4  \n",
       "ent_tv         MUMBAI: The ongoing track of Yeh Rishta Kya Ke...    8  \n",
       "entertainment  Bollywood & Hollywood Photo Gallery – Check ou...   74  \n",
       "gaming         Whether you're just starting or already 40 hou...    5  \n",
       "general                          The biggest stories of the day.   10  \n",
       "health         Following is a summary of current health news ...   10  \n",
       "international  Madeleine Westerhout lost her job as director ...    1  \n",
       "national       The ballistic missile is capable of delivering...    3  \n",
       "science                                                        %   18  \n",
       "sports                                                Read more…   35  \n",
       "technology     Mashable is a global, multi-platform media and...   11  "
      ]
     },
     "execution_count": 7,
     "metadata": {},
     "output_type": "execute_result"
    }
   ],
   "source": [
    "grouped_data.describe()"
   ]
  },
  {
   "cell_type": "code",
   "execution_count": 8,
   "metadata": {},
   "outputs": [
    {
     "data": {
      "image/png": "[encoded data removed]",
      "text/plain": [
       "<Figure size 576x432 with 1 Axes>"
      ]
     },
     "metadata": {
      "needs_background": "light"
     },
     "output_type": "display_data"
    }
   ],
   "source": [
    "fig = plt.figure(figsize=(8,6))\n",
    "df.groupby('category').title.count().plot.bar(ylim=0)\n",
    "plt.show()"
   ]
  },
  {
   "cell_type": "code",
   "execution_count": 9,
   "metadata": {
    "scrolled": true
   },
   "outputs": [
    {
     "data": {
      "text/plain": [
       "(100000, 3)"
      ]
     },
     "execution_count": 9,
     "metadata": {},
     "output_type": "execute_result"
    }
   ],
   "source": [
    "df.shape"
   ]
  },
  {
   "cell_type": "code",
   "execution_count": 10,
   "metadata": {},
   "outputs": [],
   "source": [
    "df['title-description']=df['title']+' '+df['description']"
   ]
  },
  {
   "cell_type": "code",
   "execution_count": 11,
   "metadata": {},
   "outputs": [
    {
     "data": {
      "text/html": [
       "<div>\n",
       "<style scoped>\n",
       "    .dataframe tbody tr th:only-of-type {\n",
       "        vertical-align: middle;\n",
       "    }\n",
       "\n",
       "    .dataframe tbody tr th {\n",
       "        vertical-align: top;\n",
       "    }\n",
       "\n",
       "    .dataframe thead th {\n",
       "        text-align: right;\n",
       "    }\n",
       "</style>\n",
       "<table border=\"1\" class=\"dataframe\">\n",
       "  <thead>\n",
       "    <tr style=\"text-align: right;\">\n",
       "      <th></th>\n",
       "      <th>title</th>\n",
       "      <th>description</th>\n",
       "      <th>category</th>\n",
       "      <th>title-description</th>\n",
       "    </tr>\n",
       "  </thead>\n",
       "  <tbody>\n",
       "    <tr>\n",
       "      <th>0</th>\n",
       "      <td>Kiara Advani is a vision in white plunging nec...</td>\n",
       "      <td>Kiara Advani's fashion game has been on point ...</td>\n",
       "      <td>entertainment</td>\n",
       "      <td>Kiara Advani is a vision in white plunging nec...</td>\n",
       "    </tr>\n",
       "    <tr>\n",
       "      <th>1</th>\n",
       "      <td>Pankhuri Awasthy on doing Yeh Rishta Kya Kehla...</td>\n",
       "      <td>Pankhuri Awasthy is all set to make a comeback...</td>\n",
       "      <td>entertainment</td>\n",
       "      <td>Pankhuri Awasthy on doing Yeh Rishta Kya Kehla...</td>\n",
       "    </tr>\n",
       "    <tr>\n",
       "      <th>2</th>\n",
       "      <td>Posters for Ekta Kapoor's Mangalyaan Series Do...</td>\n",
       "      <td>One poster shows the show’s protagonists flank...</td>\n",
       "      <td>entertainment</td>\n",
       "      <td>Posters for Ekta Kapoor's Mangalyaan Series Do...</td>\n",
       "    </tr>\n",
       "    <tr>\n",
       "      <th>3</th>\n",
       "      <td>Sonakshi Sinha’s new film gets a title, Khanda...</td>\n",
       "      <td>Directed by Shilpi Dasgupta, Sonakshi Sinha’s ...</td>\n",
       "      <td>entertainment</td>\n",
       "      <td>Sonakshi Sinha’s new film gets a title, Khanda...</td>\n",
       "    </tr>\n",
       "    <tr>\n",
       "      <th>4</th>\n",
       "      <td>Is Samantha Doing Another Cameo For Akkinenis?...</td>\n",
       "      <td>Already Samantha has acted in Nagarjuna's Raju...</td>\n",
       "      <td>entertainment</td>\n",
       "      <td>Is Samantha Doing Another Cameo For Akkinenis?...</td>\n",
       "    </tr>\n",
       "  </tbody>\n",
       "</table>\n",
       "</div>"
      ],
      "text/plain": [
       "                                               title  \\\n",
       "0  Kiara Advani is a vision in white plunging nec...   \n",
       "1  Pankhuri Awasthy on doing Yeh Rishta Kya Kehla...   \n",
       "2  Posters for Ekta Kapoor's Mangalyaan Series Do...   \n",
       "3  Sonakshi Sinha’s new film gets a title, Khanda...   \n",
       "4  Is Samantha Doing Another Cameo For Akkinenis?...   \n",
       "\n",
       "                                         description       category  \\\n",
       "0  Kiara Advani's fashion game has been on point ...  entertainment   \n",
       "1  Pankhuri Awasthy is all set to make a comeback...  entertainment   \n",
       "2  One poster shows the show’s protagonists flank...  entertainment   \n",
       "3  Directed by Shilpi Dasgupta, Sonakshi Sinha’s ...  entertainment   \n",
       "4  Already Samantha has acted in Nagarjuna's Raju...  entertainment   \n",
       "\n",
       "                                   title-description  \n",
       "0  Kiara Advani is a vision in white plunging nec...  \n",
       "1  Pankhuri Awasthy on doing Yeh Rishta Kya Kehla...  \n",
       "2  Posters for Ekta Kapoor's Mangalyaan Series Do...  \n",
       "3  Sonakshi Sinha’s new film gets a title, Khanda...  \n",
       "4  Is Samantha Doing Another Cameo For Akkinenis?...  "
      ]
     },
     "execution_count": 11,
     "metadata": {},
     "output_type": "execute_result"
    }
   ],
   "source": [
    "df.head()"
   ]
  },
  {
   "cell_type": "code",
   "execution_count": 12,
   "metadata": {},
   "outputs": [
    {
     "data": {
      "text/plain": [
       "\"Kiara Advani is a vision in white plunging neckline top and pants for Kabir Singh promotions - India Today Kiara Advani's fashion game has been on point during the Kabir Singh promotions. For a recent event, the actress looked stunning in an all white attire.\""
      ]
     },
     "execution_count": 12,
     "metadata": {},
     "output_type": "execute_result"
    }
   ],
   "source": [
    "df.iloc[0,3]"
   ]
  },
  {
   "cell_type": "code",
   "execution_count": 13,
   "metadata": {
    "scrolled": true
   },
   "outputs": [],
   "source": [
    "# for x in tqdm(range(0,2)):\n",
    "#     col = x\n",
    "#     for i in (df.index):\n",
    "#         df.iloc[i,col] = df.iloc[i,col].lower()\n",
    "#         df.iloc[i,col] = re.sub(r\"that's\",\"that is\",df.iloc[i,col])\n",
    "#         df.iloc[i,col] = re.sub(r\"there's\",\"there is\",df.iloc[i,col])\n",
    "#         df.iloc[i,col] = re.sub(r\"what's\",\"what is\",df.iloc[i,col])\n",
    "#         df.iloc[i,col] = re.sub(r\"where's\",\"where is\",df.iloc[i,col])\n",
    "#         df.iloc[i,col] = re.sub(r\"it's\",\"it is\",df.iloc[i,col])\n",
    "#         df.iloc[i,col] = re.sub(r\"who's\",\"who is\",df.iloc[i,col])\n",
    "#         df.iloc[i,col] = re.sub(r\"i'm\",\"i am\",df.iloc[i,col])\n",
    "#         df.iloc[i,col] = re.sub(r\"she's\",\"she is\",df.iloc[i,col])\n",
    "#         df.iloc[i,col] = re.sub(r\"he's\",\"he is\",df.iloc[i,col])\n",
    "#         df.iloc[i,col] = re.sub(r\"they're\",\"they are\",df.iloc[i,col])\n",
    "#         df.iloc[i,col] = re.sub(r\"who're\",\"who are\",df.iloc[i,col])\n",
    "#         df.iloc[i,col] = re.sub(r\"ain't\",\"am not\",df.iloc[i,col])\n",
    "#         df.iloc[i,col] = re.sub(r\"wouldn't\",\"would not\",df.iloc[i,col])\n",
    "#         df.iloc[i,col] = re.sub(r\"shouldn't\",\"should not\",df.iloc[i,col])\n",
    "#         df.iloc[i,col] = re.sub(r\"can't\",\"can not\",df.iloc[i,col])\n",
    "#         df.iloc[i,col] = re.sub(r\"couldn't\",\"could not\",df.iloc[i,col])\n",
    "#         df.iloc[i,col] = re.sub(r\"won't\",\"will not\",df.iloc[i,col])\n",
    "#         df.iloc[i,col] = re.sub(r\"\\W\",\" \",df.iloc[i,col])\n",
    "#         df.iloc[i,col] = re.sub(r\"\\d\",\" \",df.iloc[i,col])\n",
    "#         df.iloc[i,col] = re.sub(r\"\\s+[a-z]\\s+\",\" \",df.iloc[i,col])\n",
    "#         df.iloc[i,col] = re.sub(r\"\\s+[a-z]$\",\" \",df.iloc[i,col])\n",
    "#         df.iloc[i,col] = re.sub(r\"^[a-z]\\s+\",\" \",df.iloc[i,col])\n",
    "#         df.iloc[i,col] = re.sub(r\"\\s+\",\" \",df.iloc[i,col])\n",
    "#     #     print(df.iloc[i,col])"
   ]
  },
  {
   "cell_type": "code",
   "execution_count": 14,
   "metadata": {},
   "outputs": [
    {
     "data": {
      "text/plain": [
       "(100000, 4)"
      ]
     },
     "execution_count": 14,
     "metadata": {},
     "output_type": "execute_result"
    }
   ],
   "source": [
    "df.shape"
   ]
  },
  {
   "cell_type": "code",
   "execution_count": 15,
   "metadata": {},
   "outputs": [],
   "source": [
    "df = df.drop(['title','description'],axis=1)"
   ]
  },
  {
   "cell_type": "code",
   "execution_count": 16,
   "metadata": {},
   "outputs": [
    {
     "data": {
      "text/plain": [
       "(100000, 2)"
      ]
     },
     "execution_count": 16,
     "metadata": {},
     "output_type": "execute_result"
    }
   ],
   "source": [
    "df.shape"
   ]
  },
  {
   "cell_type": "code",
   "execution_count": 17,
   "metadata": {
    "scrolled": false
   },
   "outputs": [
    {
     "name": "stdout",
     "output_type": "stream",
     "text": [
      "<class 'pandas.core.frame.DataFrame'>\n",
      "RangeIndex: 100000 entries, 0 to 99999\n",
      "Data columns (total 2 columns):\n",
      "category             100000 non-null object\n",
      "title-description    95700 non-null object\n",
      "dtypes: object(2)\n",
      "memory usage: 1.5+ MB\n"
     ]
    }
   ],
   "source": [
    "df.info()"
   ]
  },
  {
   "cell_type": "code",
   "execution_count": 18,
   "metadata": {},
   "outputs": [
    {
     "data": {
      "text/plain": [
       "(100000, 2)"
      ]
     },
     "execution_count": 18,
     "metadata": {},
     "output_type": "execute_result"
    }
   ],
   "source": [
    "df.shape"
   ]
  },
  {
   "cell_type": "code",
   "execution_count": 20,
   "metadata": {},
   "outputs": [],
   "source": [
    "# vectorizer using TfidfVectorizer\n",
    "vectorizer = TfidfVectorizer(min_df=3, stop_words=\"english\", sublinear_tf=True, norm='l2', ngram_range=(1, 2))"
   ]
  },
  {
   "cell_type": "code",
   "execution_count": 21,
   "metadata": {},
   "outputs": [],
   "source": [
    "# load spacy english nlp\n",
    "nlp = English()"
   ]
  },
  {
   "cell_type": "code",
   "execution_count": 22,
   "metadata": {},
   "outputs": [],
   "source": [
    "# Creating our tokenizer function\n",
    "def spacy_tokenizer(sentence):\n",
    "    # Creating our token object, which is used to create documents with linguistic annotations.\n",
    "    mytokens = nlp(sentence)\n",
    "\n",
    "    # here the token is converted into lowercase if it is a Pronoun and if it is not a Pronoun then it is lemmatized and lowercased    \n",
    "    mytokens = [ word.lemma_.lower().strip() if word.lemma_ != \"-PRON-\" else word.lower_ for word in mytokens ]\n",
    "\n",
    "    # Removing stop words using stopword from spacy library and punctuations from string library\n",
    "    mytokens = [ word for word in mytokens if word not in stop_words and word not in punctuations ]\n",
    "\n",
    "    # return preprocessed list of tokens\n",
    "    return mytokens"
   ]
  },
  {
   "cell_type": "code",
   "execution_count": 23,
   "metadata": {},
   "outputs": [],
   "source": [
    "# Custom transformer using spaCy\n",
    "class predictors(TransformerMixin):\n",
    "    def transform(self, X, **transform_params):\n",
    "        # Cleaning Text\n",
    "        return [clean_text(text) for text in X]\n",
    "\n",
    "    def fit(self, X, y, **fit_params):\n",
    "        return self\n",
    "\n",
    "    def get_params(self, deep=True):\n",
    "        return {}\n",
    "\n",
    "# Basic function to clean the text\n",
    "def clean_text(text):\n",
    "    # Let's see if there are any missing values\n",
    "    try:\n",
    "        # Removing spaces and converting text into lowercase\n",
    "        return text.strip().lower()\n",
    "    except:\n",
    "        return ' '"
   ]
  },
  {
   "cell_type": "markdown",
   "metadata": {},
   "source": [
    "### let's divide data into train and validation sets"
   ]
  },
  {
   "cell_type": "code",
   "execution_count": 25,
   "metadata": {},
   "outputs": [
    {
     "name": "stdout",
     "output_type": "stream",
     "text": [
      "(100000, 2) (95000, 1) (5000, 1) (95000,) (5000,)\n"
     ]
    }
   ],
   "source": [
    "X = df.drop('category',axis=1).values\n",
    "y = df['category'].values\n",
    "X_train, X_test, y_train, y_test = train_test_split(X, y, test_size = 0.05, random_state=99)\n",
    "print(df.shape, X_train.shape, X_test.shape,y_train.shape,y_test.shape)"
   ]
  },
  {
   "cell_type": "code",
   "execution_count": 26,
   "metadata": {},
   "outputs": [],
   "source": [
    "X_train = X_train.ravel()"
   ]
  },
  {
   "cell_type": "code",
   "execution_count": 27,
   "metadata": {},
   "outputs": [
    {
     "data": {
      "text/plain": [
       "(95000,)"
      ]
     },
     "execution_count": 27,
     "metadata": {},
     "output_type": "execute_result"
    }
   ],
   "source": [
    "X_train.shape"
   ]
  },
  {
   "cell_type": "code",
   "execution_count": 28,
   "metadata": {},
   "outputs": [],
   "source": [
    "X_test = X_test.ravel()"
   ]
  },
  {
   "cell_type": "code",
   "execution_count": 29,
   "metadata": {},
   "outputs": [
    {
     "data": {
      "text/plain": [
       "(5000,)"
      ]
     },
     "execution_count": 29,
     "metadata": {},
     "output_type": "execute_result"
    }
   ],
   "source": [
    "\n",
    "X_test.shape"
   ]
  },
  {
   "cell_type": "code",
   "execution_count": 30,
   "metadata": {},
   "outputs": [
    {
     "data": {
      "text/plain": [
       "(95000,)"
      ]
     },
     "execution_count": 30,
     "metadata": {},
     "output_type": "execute_result"
    }
   ],
   "source": [
    "y_train.shape"
   ]
  },
  {
   "cell_type": "code",
   "execution_count": 31,
   "metadata": {},
   "outputs": [
    {
     "data": {
      "text/plain": [
       "array(['ICC World Cup 2019: Indian fan dies after MS Dhoni’s dismissal in the semi-final - CricTracker Ever since MS Dhoni started donning the national colours, his fandom has only increased. The veteran turned 38 years old and',\n",
       "       \"Horoscope Today, June 29, 2019: Shopping spree on cards for Taurians; here's your daily astrology prediction - Times Now From obstacles and hurdles to opportunities and surprises, check out today's astrology prediction to find out what Saturday has in store for you.\",\n",
       "       \"Stocks to watch: Eicher Motors, Ashok Leyland, IOCL, Axis Bank, ZEEL, DHFL - Business Standard Here's a list of companies whose shares are expected to trade actively in today's trading session.\",\n",
       "       ...,\n",
       "       \"Ashes 2019: How four Aussie pace guns finally fit together - Wide World of Sports 'It's just great to be back in a squad'\",\n",
       "       '\"Such Bipartisan Support Is Gladdening\": PM Modi After Passage Of J&K Bills - NDTV News Prime Minister Narendra Modi today thanked lawmakers in both houses of Parliament for passing two legislations on Jammu and Kashmir, and complimented Home Minister Amit Shah for introducing them with speeches that were both \"comprehensive and insightful\".',\n",
       "       'LightSail 2 Beams 1st Photos Home from Orbit! How to Track the Little Satellite. - Space.com LightSail 2 will be very shiny after it deploys its sail.'],\n",
       "      dtype=object)"
      ]
     },
     "execution_count": 31,
     "metadata": {},
     "output_type": "execute_result"
    }
   ],
   "source": [
    "X_train"
   ]
  },
  {
   "cell_type": "code",
   "execution_count": 32,
   "metadata": {},
   "outputs": [],
   "source": [
    "# xgboost = XGBClassifier()"
   ]
  },
  {
   "cell_type": "code",
   "execution_count": 43,
   "metadata": {},
   "outputs": [],
   "source": [
    "from sklearn.naive_bayes import MultinomialNB\n",
    "clf = MultinomialNB()"
   ]
  },
  {
   "cell_type": "markdown",
   "metadata": {},
   "source": [
    "### let's compare different models using cross validation"
   ]
  },
  {
   "cell_type": "code",
   "execution_count": 63,
   "metadata": {
    "scrolled": true
   },
   "outputs": [
    {
     "name": "stderr",
     "output_type": "stream",
     "text": [
      " 75%|███████████████████████████████████████████████████████████████                     | 3/4 [02:38<01:07, 67.96s/it]C:\\Users\\admin\\Anaconda3\\lib\\site-packages\\sklearn\\linear_model\\logistic.py:459: FutureWarning: Default multi_class will be changed to 'auto' in 0.22. Specify the multi_class option to silence this warning.\n",
      "  \"this warning.\", FutureWarning)\n",
      "C:\\Users\\admin\\Anaconda3\\lib\\site-packages\\sklearn\\linear_model\\logistic.py:459: FutureWarning: Default multi_class will be changed to 'auto' in 0.22. Specify the multi_class option to silence this warning.\n",
      "  \"this warning.\", FutureWarning)\n",
      "C:\\Users\\admin\\Anaconda3\\lib\\site-packages\\sklearn\\linear_model\\logistic.py:459: FutureWarning: Default multi_class will be changed to 'auto' in 0.22. Specify the multi_class option to silence this warning.\n",
      "  \"this warning.\", FutureWarning)\n",
      "C:\\Users\\admin\\Anaconda3\\lib\\site-packages\\sklearn\\linear_model\\logistic.py:459: FutureWarning: Default multi_class will be changed to 'auto' in 0.22. Specify the multi_class option to silence this warning.\n",
      "  \"this warning.\", FutureWarning)\n",
      "C:\\Users\\admin\\Anaconda3\\lib\\site-packages\\sklearn\\linear_model\\logistic.py:459: FutureWarning: Default multi_class will be changed to 'auto' in 0.22. Specify the multi_class option to silence this warning.\n",
      "  \"this warning.\", FutureWarning)\n",
      "100%|███████████████████████████████████████████████████████████████████████████████████| 4/4 [15:55<00:00, 286.64s/it]\n"
     ]
    },
    {
     "data": {
      "image/png": "[encoded data removed]",
      "text/plain": [
       "<Figure size 432x288 with 1 Axes>"
      ]
     },
     "metadata": {
      "needs_background": "light"
     },
     "output_type": "display_data"
    }
   ],
   "source": [
    "models = [\n",
    "    RandomForestClassifier(n_estimators=200, max_depth=3, random_state=0),\n",
    "    LinearSVC(),\n",
    "    MultinomialNB(),\n",
    "    LogisticRegression(solver = 'lbfgs',max_iter=200,random_state=0),\n",
    "]\n",
    "CV = 5\n",
    "cv_df = pd.DataFrame(index=range(CV * len(models)))\n",
    "entries = []\n",
    "for model in tqdm(models):\n",
    "    model_name = model.__class__.__name__\n",
    "    accuracies = cross_val_score(model, text_features, labels, scoring='accuracy', cv=CV)\n",
    "    for fold_idx, accuracy in enumerate(accuracies):\n",
    "        entries.append((model_name, fold_idx, accuracy))\n",
    "cv_df = pd.DataFrame(entries, columns=['model_name', 'fold_idx', 'accuracy'])\n",
    "sns.boxplot(x='model_name', y='accuracy', data=cv_df)\n",
    "sns.stripplot(x='model_name', y='accuracy', data=cv_df, \n",
    "              size=8, jitter=True, edgecolor=\"gray\", linewidth=2)\n",
    "plt.show()"
   ]
  },
  {
   "cell_type": "markdown",
   "metadata": {},
   "source": [
    "### above chart show's that linear_svc and logistic regression model performs well, so let's go ahead with linear_svc model as our training model"
   ]
  },
  {
   "cell_type": "code",
   "execution_count": null,
   "metadata": {},
   "outputs": [],
   "source": [
    "# # Setup the parameters and distributions to sample from: param_dist\n",
    "# param_dist = {'C':[1,10,100,1000]}\n",
    "# # Instantiate a classifier: linear_svc\n",
    "# linear_svc = LinearSVC()\n",
    "\n",
    "# # Instantiate the gridSearchCV object: linear_svc\n",
    "# linear_svc_cv = GridSearchCV(linear_svc, param_dist, cv=5,scoring='accuracy')\n",
    "\n",
    "# # Fit it to the data\n",
    "# linear_svc_cv.fit(text_features, labels)\n",
    "\n",
    "# # Print the tuned parameters and score\n",
    "# print(\"Tuned Decision ridge Parameters: {}\".format(linear_svc_cv.best_params_))\n",
    "# print(\"Best score is {}\".format(linear_svc_cv.best_score_))"
   ]
  },
  {
   "cell_type": "code",
   "execution_count": 38,
   "metadata": {},
   "outputs": [
    {
     "data": {
      "text/html": [
       "<div>\n",
       "<style scoped>\n",
       "    .dataframe tbody tr th:only-of-type {\n",
       "        vertical-align: middle;\n",
       "    }\n",
       "\n",
       "    .dataframe tbody tr th {\n",
       "        vertical-align: top;\n",
       "    }\n",
       "\n",
       "    .dataframe thead th {\n",
       "        text-align: right;\n",
       "    }\n",
       "</style>\n",
       "<table border=\"1\" class=\"dataframe\">\n",
       "  <thead>\n",
       "    <tr style=\"text-align: right;\">\n",
       "      <th></th>\n",
       "      <th>model_name</th>\n",
       "      <th>fold_idx</th>\n",
       "      <th>accuracy</th>\n",
       "    </tr>\n",
       "  </thead>\n",
       "  <tbody>\n",
       "    <tr>\n",
       "      <th>0</th>\n",
       "      <td>RandomForestClassifier</td>\n",
       "      <td>0</td>\n",
       "      <td>0.432077</td>\n",
       "    </tr>\n",
       "    <tr>\n",
       "      <th>1</th>\n",
       "      <td>RandomForestClassifier</td>\n",
       "      <td>1</td>\n",
       "      <td>0.426686</td>\n",
       "    </tr>\n",
       "    <tr>\n",
       "      <th>2</th>\n",
       "      <td>RandomForestClassifier</td>\n",
       "      <td>2</td>\n",
       "      <td>0.400620</td>\n",
       "    </tr>\n",
       "    <tr>\n",
       "      <th>3</th>\n",
       "      <td>RandomForestClassifier</td>\n",
       "      <td>3</td>\n",
       "      <td>0.386197</td>\n",
       "    </tr>\n",
       "    <tr>\n",
       "      <th>4</th>\n",
       "      <td>RandomForestClassifier</td>\n",
       "      <td>4</td>\n",
       "      <td>0.401100</td>\n",
       "    </tr>\n",
       "    <tr>\n",
       "      <th>5</th>\n",
       "      <td>LinearSVC</td>\n",
       "      <td>0</td>\n",
       "      <td>0.775590</td>\n",
       "    </tr>\n",
       "    <tr>\n",
       "      <th>6</th>\n",
       "      <td>LinearSVC</td>\n",
       "      <td>1</td>\n",
       "      <td>0.789582</td>\n",
       "    </tr>\n",
       "    <tr>\n",
       "      <th>7</th>\n",
       "      <td>LinearSVC</td>\n",
       "      <td>2</td>\n",
       "      <td>0.808040</td>\n",
       "    </tr>\n",
       "    <tr>\n",
       "      <th>8</th>\n",
       "      <td>LinearSVC</td>\n",
       "      <td>3</td>\n",
       "      <td>0.821555</td>\n",
       "    </tr>\n",
       "    <tr>\n",
       "      <th>9</th>\n",
       "      <td>LinearSVC</td>\n",
       "      <td>4</td>\n",
       "      <td>0.806352</td>\n",
       "    </tr>\n",
       "    <tr>\n",
       "      <th>10</th>\n",
       "      <td>MultinomialNB</td>\n",
       "      <td>0</td>\n",
       "      <td>0.736255</td>\n",
       "    </tr>\n",
       "    <tr>\n",
       "      <th>11</th>\n",
       "      <td>MultinomialNB</td>\n",
       "      <td>1</td>\n",
       "      <td>0.728641</td>\n",
       "    </tr>\n",
       "    <tr>\n",
       "      <th>12</th>\n",
       "      <td>MultinomialNB</td>\n",
       "      <td>2</td>\n",
       "      <td>0.742237</td>\n",
       "    </tr>\n",
       "    <tr>\n",
       "      <th>13</th>\n",
       "      <td>MultinomialNB</td>\n",
       "      <td>3</td>\n",
       "      <td>0.758040</td>\n",
       "    </tr>\n",
       "    <tr>\n",
       "      <th>14</th>\n",
       "      <td>MultinomialNB</td>\n",
       "      <td>4</td>\n",
       "      <td>0.747137</td>\n",
       "    </tr>\n",
       "    <tr>\n",
       "      <th>15</th>\n",
       "      <td>LogisticRegression</td>\n",
       "      <td>0</td>\n",
       "      <td>0.766943</td>\n",
       "    </tr>\n",
       "    <tr>\n",
       "      <th>16</th>\n",
       "      <td>LogisticRegression</td>\n",
       "      <td>1</td>\n",
       "      <td>0.775484</td>\n",
       "    </tr>\n",
       "    <tr>\n",
       "      <th>17</th>\n",
       "      <td>LogisticRegression</td>\n",
       "      <td>2</td>\n",
       "      <td>0.788839</td>\n",
       "    </tr>\n",
       "    <tr>\n",
       "      <th>18</th>\n",
       "      <td>LogisticRegression</td>\n",
       "      <td>3</td>\n",
       "      <td>0.803051</td>\n",
       "    </tr>\n",
       "    <tr>\n",
       "      <th>19</th>\n",
       "      <td>LogisticRegression</td>\n",
       "      <td>4</td>\n",
       "      <td>0.786547</td>\n",
       "    </tr>\n",
       "  </tbody>\n",
       "</table>\n",
       "</div>"
      ],
      "text/plain": [
       "                model_name  fold_idx  accuracy\n",
       "0   RandomForestClassifier         0  0.432077\n",
       "1   RandomForestClassifier         1  0.426686\n",
       "2   RandomForestClassifier         2  0.400620\n",
       "3   RandomForestClassifier         3  0.386197\n",
       "4   RandomForestClassifier         4  0.401100\n",
       "5                LinearSVC         0  0.775590\n",
       "6                LinearSVC         1  0.789582\n",
       "7                LinearSVC         2  0.808040\n",
       "8                LinearSVC         3  0.821555\n",
       "9                LinearSVC         4  0.806352\n",
       "10           MultinomialNB         0  0.736255\n",
       "11           MultinomialNB         1  0.728641\n",
       "12           MultinomialNB         2  0.742237\n",
       "13           MultinomialNB         3  0.758040\n",
       "14           MultinomialNB         4  0.747137\n",
       "15      LogisticRegression         0  0.766943\n",
       "16      LogisticRegression         1  0.775484\n",
       "17      LogisticRegression         2  0.788839\n",
       "18      LogisticRegression         3  0.803051\n",
       "19      LogisticRegression         4  0.786547"
      ]
     },
     "execution_count": 38,
     "metadata": {},
     "output_type": "execute_result"
    }
   ],
   "source": [
    "# croos_validation results from different models based on accuracy\n",
    "cv_df"
   ]
  },
  {
   "cell_type": "code",
   "execution_count": 33,
   "metadata": {},
   "outputs": [],
   "source": [
    "linear_svc = LinearSVC()"
   ]
  },
  {
   "cell_type": "code",
   "execution_count": 34,
   "metadata": {},
   "outputs": [
    {
     "data": {
      "text/plain": [
       "Pipeline(memory=None,\n",
       "     steps=[('cleaner', <__main__.predictors object at 0x00000183051DFA20>), ('vectorizer', TfidfVectorizer(analyzer='word', binary=False, decode_error='strict',\n",
       "        dtype=<class 'numpy.float64'>, encoding='utf-8', input='content',\n",
       "        lowercase=True, max_df=1.0, max_features=None, min_df=3,\n",
       "    ...ax_iter=1000,\n",
       "     multi_class='ovr', penalty='l2', random_state=None, tol=0.0001,\n",
       "     verbose=0))])"
      ]
     },
     "execution_count": 34,
     "metadata": {},
     "output_type": "execute_result"
    }
   ],
   "source": [
    "# Create pipeline for Bag of Words model\n",
    "pipe = Pipeline([(\"cleaner\", predictors()),\n",
    "                 ('vectorizer', vectorizer),\n",
    "                 ('chi',  SelectKBest(chi2, k=1000)),\n",
    "                 ('classifier', linear_svc)])\n",
    "\n",
    "# model generation\n",
    "pipe.fit(X_train,y_train)"
   ]
  },
  {
   "cell_type": "code",
   "execution_count": 35,
   "metadata": {},
   "outputs": [],
   "source": [
    "pred = pipe.predict(X_test)"
   ]
  },
  {
   "cell_type": "code",
   "execution_count": 36,
   "metadata": {},
   "outputs": [
    {
     "data": {
      "text/plain": [
       "array(['general', 'science', 'science', ..., 'general', 'general',\n",
       "       'business'], dtype=object)"
      ]
     },
     "execution_count": 36,
     "metadata": {},
     "output_type": "execute_result"
    }
   ],
   "source": [
    "pred"
   ]
  },
  {
   "cell_type": "code",
   "execution_count": 38,
   "metadata": {},
   "outputs": [
    {
     "data": {
      "text/plain": [
       "{'automotive': 126,\n",
       " 'business': 708,\n",
       " 'ent_regional': 115,\n",
       " 'ent_tv': 38,\n",
       " 'entertainment': 880,\n",
       " 'gaming': 9,\n",
       " 'general': 505,\n",
       " 'health': 399,\n",
       " 'international': 1,\n",
       " 'national': 4,\n",
       " 'science': 332,\n",
       " 'sports': 1137,\n",
       " 'technology': 746}"
      ]
     },
     "execution_count": 38,
     "metadata": {},
     "output_type": "execute_result"
    }
   ],
   "source": [
    "# count of eachh category in predictions\n",
    "unique, counts = np.unique(pred, return_counts=True)\n",
    "dict(zip(unique, counts))"
   ]
  },
  {
   "cell_type": "code",
   "execution_count": 39,
   "metadata": {},
   "outputs": [
    {
     "data": {
      "text/plain": [
       "{'automotive': 130,\n",
       " 'business': 740,\n",
       " 'ent_regional': 117,\n",
       " 'ent_tv': 36,\n",
       " 'entertainment': 900,\n",
       " 'gaming': 12,\n",
       " 'general': 776,\n",
       " 'health': 423,\n",
       " 'national': 8,\n",
       " 'science': 370,\n",
       " 'sports': 768,\n",
       " 'technology': 720}"
      ]
     },
     "execution_count": 39,
     "metadata": {},
     "output_type": "execute_result"
    }
   ],
   "source": [
    "# count of each category in actual test set\n",
    "unique, counts = np.unique(y_test, return_counts=True)\n",
    "dict(zip(unique, counts))"
   ]
  },
  {
   "cell_type": "code",
   "execution_count": 40,
   "metadata": {
    "scrolled": true
   },
   "outputs": [
    {
     "name": "stdout",
     "output_type": "stream",
     "text": [
      "Overall accuracy: 78.12 %\n"
     ]
    }
   ],
   "source": [
    "# so let's calculate accuracy\n",
    "from sklearn.metrics import confusion_matrix\n",
    "conf_mat = confusion_matrix(pred,y_test)\n",
    "acc = np.sum(conf_mat.diagonal())/np.sum(conf_mat)\n",
    "print('Overall accuracy: {} %'.format(acc*100))"
   ]
  },
  {
   "cell_type": "markdown",
   "metadata": {},
   "source": [
    "### Now let's Train it on entrire dataset"
   ]
  },
  {
   "cell_type": "code",
   "execution_count": 38,
   "metadata": {},
   "outputs": [
    {
     "data": {
      "text/plain": [
       "(100000,)"
      ]
     },
     "execution_count": 38,
     "metadata": {},
     "output_type": "execute_result"
    }
   ],
   "source": [
    "X = X.ravel()\n",
    "\n",
    "X.shape"
   ]
  },
  {
   "cell_type": "code",
   "execution_count": 39,
   "metadata": {},
   "outputs": [
    {
     "data": {
      "text/plain": [
       "(100000,)"
      ]
     },
     "execution_count": 39,
     "metadata": {},
     "output_type": "execute_result"
    }
   ],
   "source": [
    "y.shape"
   ]
  },
  {
   "cell_type": "code",
   "execution_count": 40,
   "metadata": {
    "scrolled": true
   },
   "outputs": [
    {
     "data": {
      "text/plain": [
       "Pipeline(memory=None,\n",
       "     steps=[('cleaner', <__main__.predictors object at 0x000002C4692BBC18>), ('vectorizer', TfidfVectorizer(analyzer='word', binary=False, decode_error='strict',\n",
       "        dtype=<class 'numpy.float64'>, encoding='utf-8', input='content',\n",
       "        lowercase=True, max_df=1.0, max_features=None, min_df=3,\n",
       "    ...ax_iter=1000,\n",
       "     multi_class='ovr', penalty='l2', random_state=None, tol=0.0001,\n",
       "     verbose=0))])"
      ]
     },
     "execution_count": 40,
     "metadata": {},
     "output_type": "execute_result"
    }
   ],
   "source": [
    "# Create pipeline using Bag of Words\n",
    "pipe = Pipeline([(\"cleaner\", predictors()),\n",
    "                 ('vectorizer', vectorizer),\n",
    "                 ('chi',  SelectKBest(chi2, k=1000)),\n",
    "                 ('classifier', linear_svc)])\n",
    "\n",
    "# model generation\n",
    "pipe.fit(X,y)"
   ]
  },
  {
   "cell_type": "markdown",
   "metadata": {},
   "source": [
    "### get new data to predict using our trained model from newsapi"
   ]
  },
  {
   "cell_type": "code",
   "execution_count": 79,
   "metadata": {},
   "outputs": [],
   "source": [
    "from newsapi import NewsApiClient\n",
    "# Init\n",
    "newsapi = NewsApiClient(api_key='c0e2280d25ef481183f8b497ee36d692')"
   ]
  },
  {
   "cell_type": "code",
   "execution_count": 55,
   "metadata": {},
   "outputs": [],
   "source": [
    "categories = df.category.unique()"
   ]
  },
  {
   "cell_type": "code",
   "execution_count": 56,
   "metadata": {},
   "outputs": [
    {
     "data": {
      "text/plain": [
       "array(['entertainment', 'business', 'general', 'health', 'science',\n",
       "       'sports', 'technology', 'automotive', 'ent_regional', 'ent_tv',\n",
       "       'gaming', 'national', 'international'], dtype=object)"
      ]
     },
     "execution_count": 56,
     "metadata": {},
     "output_type": "execute_result"
    }
   ],
   "source": [
    "categories"
   ]
  },
  {
   "cell_type": "code",
   "execution_count": 83,
   "metadata": {},
   "outputs": [],
   "source": [
    "new_df = pd.DataFrame()\n",
    "for i in categories:\n",
    "    for page in list(range(1,6)):\n",
    "        all_articles = newsapi.get_everything(q=i,\n",
    "                                      sources='the-hindu,the-times-of-india,hacker-news',\n",
    "                                      domains='thehindu.com,timesofindia.indiatimes.com,news.ycombinator.com',\n",
    "                                      from_param='2019-10-10',\n",
    "                                      to='2019-10-14',\n",
    "                                      language='en',\n",
    "                                      sort_by='popularity',\n",
    "                                      page=page)\n",
    "        new_df = new_df.append(pd.DataFrame(all_articles['articles']).filter(['title','description']),ignore_index=True)"
   ]
  },
  {
   "cell_type": "code",
   "execution_count": 84,
   "metadata": {},
   "outputs": [],
   "source": [
    "# new_df1= pd.DataFrame()\n",
    "new_df1 = new_df1.append(new_df,ignore_index=True)"
   ]
  },
  {
   "cell_type": "code",
   "execution_count": 85,
   "metadata": {},
   "outputs": [
    {
     "data": {
      "text/plain": [
       "(3391, 2)"
      ]
     },
     "execution_count": 85,
     "metadata": {},
     "output_type": "execute_result"
    }
   ],
   "source": [
    "new_df1.shape"
   ]
  },
  {
   "cell_type": "code",
   "execution_count": 88,
   "metadata": {},
   "outputs": [],
   "source": [
    "# save this new data into csv file\n",
    "new_df1.to_csv('news.csv',index=False)"
   ]
  },
  {
   "cell_type": "markdown",
   "metadata": {},
   "source": [
    "### Let's Store this dataset into MongoDB"
   ]
  },
  {
   "cell_type": "code",
   "execution_count": 103,
   "metadata": {},
   "outputs": [],
   "source": [
    "#Load libraries\n",
    "import pandas as pd\n",
    "import os\n",
    "import pymongo as pymongo\n",
    "from pymongo import MongoClient\n",
    "import json"
   ]
  },
  {
   "cell_type": "code",
   "execution_count": 104,
   "metadata": {},
   "outputs": [],
   "source": [
    "# Connect to the MongoDB, change the connection string per your MongoDB environment\n",
    "Channel = MongoClient(port=27017)"
   ]
  },
  {
   "cell_type": "code",
   "execution_count": 105,
   "metadata": {},
   "outputs": [],
   "source": [
    "#creating a database Appscrip_news and a collection news_csv\n",
    "db = Channel['Appscrip_news'] \n",
    "news = db['news_csv']"
   ]
  },
  {
   "cell_type": "code",
   "execution_count": 106,
   "metadata": {},
   "outputs": [],
   "source": [
    "# Store a Dataframe-df into MongoDB\n",
    "df = pd.read_csv(\"news.csv\")\n",
    "data_json = json.loads(df.to_json(orient='records'))"
   ]
  },
  {
   "cell_type": "code",
   "execution_count": 107,
   "metadata": {},
   "outputs": [
    {
     "data": {
      "text/plain": [
       "<pymongo.results.InsertManyResult at 0x2c407b464c8>"
      ]
     },
     "execution_count": 107,
     "metadata": {},
     "output_type": "execute_result"
    }
   ],
   "source": [
    "news.insert_many(data_json)"
   ]
  },
  {
   "cell_type": "code",
   "execution_count": 108,
   "metadata": {
    "scrolled": true
   },
   "outputs": [
    {
     "data": {
      "text/html": [
       "<div>\n",
       "<style scoped>\n",
       "    .dataframe tbody tr th:only-of-type {\n",
       "        vertical-align: middle;\n",
       "    }\n",
       "\n",
       "    .dataframe tbody tr th {\n",
       "        vertical-align: top;\n",
       "    }\n",
       "\n",
       "    .dataframe thead th {\n",
       "        text-align: right;\n",
       "    }\n",
       "</style>\n",
       "<table border=\"1\" class=\"dataframe\">\n",
       "  <thead>\n",
       "    <tr style=\"text-align: right;\">\n",
       "      <th></th>\n",
       "      <th>_id</th>\n",
       "      <th>description</th>\n",
       "      <th>title</th>\n",
       "    </tr>\n",
       "  </thead>\n",
       "  <tbody>\n",
       "    <tr>\n",
       "      <th>0</th>\n",
       "      <td>5da4d01748ef8f845bb3a8e6</td>\n",
       "      <td>While talking to the TimesofIndia.com exclusiv...</td>\n",
       "      <td>'Nobody wants to see Paras as saint on Bigg Boss'</td>\n",
       "    </tr>\n",
       "    <tr>\n",
       "      <th>1</th>\n",
       "      <td>5da4d01748ef8f845bb3a8e7</td>\n",
       "      <td>Among the stocks that touched their 52-week hi...</td>\n",
       "      <td>6 stocks hit 52-week highs on NSE</td>\n",
       "    </tr>\n",
       "    <tr>\n",
       "      <th>2</th>\n",
       "      <td>5da4d01748ef8f845bb3a8e8</td>\n",
       "      <td>Among the stocks that touched their 52-week hi...</td>\n",
       "      <td>8 stocks hit 52-week highs on NSE</td>\n",
       "    </tr>\n",
       "    <tr>\n",
       "      <th>3</th>\n",
       "      <td>5da4d01748ef8f845bb3a8e9</td>\n",
       "      <td>The Nifty Bank index was trading 0.59 per cent...</td>\n",
       "      <td>Nifty Bank trades lower; YES Bank surges 24%</td>\n",
       "    </tr>\n",
       "    <tr>\n",
       "      <th>4</th>\n",
       "      <td>5da4d01748ef8f845bb3a8ea</td>\n",
       "      <td>The Nifty FMCG index was trading 0.19 per cent...</td>\n",
       "      <td>FMCG index trades with negative bias; Godrej I...</td>\n",
       "    </tr>\n",
       "    <tr>\n",
       "      <th>5</th>\n",
       "      <td>5da4d01748ef8f845bb3a8eb</td>\n",
       "      <td>Are streaming services killing multiplexes?Whi...</td>\n",
       "      <td>Are streaming services killing multiplexes?</td>\n",
       "    </tr>\n",
       "    <tr>\n",
       "      <th>6</th>\n",
       "      <td>5da4d01748ef8f845bb3a8ec</td>\n",
       "      <td>Premji explained that one area of focus should...</td>\n",
       "      <td>Need to ensure that Internet is equitable for ...</td>\n",
       "    </tr>\n",
       "    <tr>\n",
       "      <th>7</th>\n",
       "      <td>5da4d01748ef8f845bb3a8ed</td>\n",
       "      <td>Here is our guide on where to feast on Bengali...</td>\n",
       "      <td>How Chennai celebrates Durga Puja</td>\n",
       "    </tr>\n",
       "    <tr>\n",
       "      <th>8</th>\n",
       "      <td>5da4d01748ef8f845bb3a8ee</td>\n",
       "      <td>The thing that works for War is that it’s able...</td>\n",
       "      <td>‘War’ review: Though predictable, this is a sl...</td>\n",
       "    </tr>\n",
       "    <tr>\n",
       "      <th>9</th>\n",
       "      <td>5da4d01748ef8f845bb3a8ef</td>\n",
       "      <td>Starring Nandha Durairaj and Abhirami Venkatch...</td>\n",
       "      <td>SonyLIV launches Tamil web series ‘Iru Dhuruvam’</td>\n",
       "    </tr>\n",
       "  </tbody>\n",
       "</table>\n",
       "</div>"
      ],
      "text/plain": [
       "                        _id  \\\n",
       "0  5da4d01748ef8f845bb3a8e6   \n",
       "1  5da4d01748ef8f845bb3a8e7   \n",
       "2  5da4d01748ef8f845bb3a8e8   \n",
       "3  5da4d01748ef8f845bb3a8e9   \n",
       "4  5da4d01748ef8f845bb3a8ea   \n",
       "5  5da4d01748ef8f845bb3a8eb   \n",
       "6  5da4d01748ef8f845bb3a8ec   \n",
       "7  5da4d01748ef8f845bb3a8ed   \n",
       "8  5da4d01748ef8f845bb3a8ee   \n",
       "9  5da4d01748ef8f845bb3a8ef   \n",
       "\n",
       "                                         description  \\\n",
       "0  While talking to the TimesofIndia.com exclusiv...   \n",
       "1  Among the stocks that touched their 52-week hi...   \n",
       "2  Among the stocks that touched their 52-week hi...   \n",
       "3  The Nifty Bank index was trading 0.59 per cent...   \n",
       "4  The Nifty FMCG index was trading 0.19 per cent...   \n",
       "5  Are streaming services killing multiplexes?Whi...   \n",
       "6  Premji explained that one area of focus should...   \n",
       "7  Here is our guide on where to feast on Bengali...   \n",
       "8  The thing that works for War is that it’s able...   \n",
       "9  Starring Nandha Durairaj and Abhirami Venkatch...   \n",
       "\n",
       "                                               title  \n",
       "0  'Nobody wants to see Paras as saint on Bigg Boss'  \n",
       "1                  6 stocks hit 52-week highs on NSE  \n",
       "2                  8 stocks hit 52-week highs on NSE  \n",
       "3       Nifty Bank trades lower; YES Bank surges 24%  \n",
       "4  FMCG index trades with negative bias; Godrej I...  \n",
       "5        Are streaming services killing multiplexes?  \n",
       "6  Need to ensure that Internet is equitable for ...  \n",
       "7                  How Chennai celebrates Durga Puja  \n",
       "8  ‘War’ review: Though predictable, this is a sl...  \n",
       "9   SonyLIV launches Tamil web series ‘Iru Dhuruvam’  "
      ]
     },
     "execution_count": 108,
     "metadata": {},
     "output_type": "execute_result"
    }
   ],
   "source": [
    "#see our loaded data\n",
    "cursor = news.find()\n",
    "result = pd.DataFrame(list(cursor)) \n",
    "result.head(10)"
   ]
  },
  {
   "cell_type": "code",
   "execution_count": 109,
   "metadata": {},
   "outputs": [],
   "source": [
    "ids = result['_id']"
   ]
  },
  {
   "cell_type": "code",
   "execution_count": 110,
   "metadata": {
    "scrolled": true
   },
   "outputs": [
    {
     "data": {
      "text/plain": [
       "(3391, 3)"
      ]
     },
     "execution_count": 110,
     "metadata": {},
     "output_type": "execute_result"
    }
   ],
   "source": [
    "result.shape"
   ]
  },
  {
   "cell_type": "code",
   "execution_count": 111,
   "metadata": {},
   "outputs": [],
   "source": [
    "result = result.filter(['title','description'])"
   ]
  },
  {
   "cell_type": "code",
   "execution_count": 112,
   "metadata": {},
   "outputs": [],
   "source": [
    "result['title-description']=result['title']+' '+result['description']"
   ]
  },
  {
   "cell_type": "code",
   "execution_count": 113,
   "metadata": {},
   "outputs": [],
   "source": [
    "result = result.drop(['title','description'],axis=1)"
   ]
  },
  {
   "cell_type": "code",
   "execution_count": 114,
   "metadata": {},
   "outputs": [
    {
     "data": {
      "text/html": [
       "<div>\n",
       "<style scoped>\n",
       "    .dataframe tbody tr th:only-of-type {\n",
       "        vertical-align: middle;\n",
       "    }\n",
       "\n",
       "    .dataframe tbody tr th {\n",
       "        vertical-align: top;\n",
       "    }\n",
       "\n",
       "    .dataframe thead th {\n",
       "        text-align: right;\n",
       "    }\n",
       "</style>\n",
       "<table border=\"1\" class=\"dataframe\">\n",
       "  <thead>\n",
       "    <tr style=\"text-align: right;\">\n",
       "      <th></th>\n",
       "      <th>title-description</th>\n",
       "    </tr>\n",
       "  </thead>\n",
       "  <tbody>\n",
       "    <tr>\n",
       "      <th>0</th>\n",
       "      <td>'Nobody wants to see Paras as saint on Bigg Bo...</td>\n",
       "    </tr>\n",
       "    <tr>\n",
       "      <th>1</th>\n",
       "      <td>6 stocks hit 52-week highs on NSE Among the st...</td>\n",
       "    </tr>\n",
       "    <tr>\n",
       "      <th>2</th>\n",
       "      <td>8 stocks hit 52-week highs on NSE Among the st...</td>\n",
       "    </tr>\n",
       "    <tr>\n",
       "      <th>3</th>\n",
       "      <td>Nifty Bank trades lower; YES Bank surges 24% T...</td>\n",
       "    </tr>\n",
       "    <tr>\n",
       "      <th>4</th>\n",
       "      <td>FMCG index trades with negative bias; Godrej I...</td>\n",
       "    </tr>\n",
       "  </tbody>\n",
       "</table>\n",
       "</div>"
      ],
      "text/plain": [
       "                                   title-description\n",
       "0  'Nobody wants to see Paras as saint on Bigg Bo...\n",
       "1  6 stocks hit 52-week highs on NSE Among the st...\n",
       "2  8 stocks hit 52-week highs on NSE Among the st...\n",
       "3  Nifty Bank trades lower; YES Bank surges 24% T...\n",
       "4  FMCG index trades with negative bias; Godrej I..."
      ]
     },
     "execution_count": 114,
     "metadata": {},
     "output_type": "execute_result"
    }
   ],
   "source": [
    "result.head()"
   ]
  },
  {
   "cell_type": "code",
   "execution_count": 115,
   "metadata": {},
   "outputs": [
    {
     "data": {
      "text/plain": [
       "(3391,)"
      ]
     },
     "execution_count": 115,
     "metadata": {},
     "output_type": "execute_result"
    }
   ],
   "source": [
    "test = result['title-description'].values.ravel()\n",
    "test.shape"
   ]
  },
  {
   "cell_type": "code",
   "execution_count": 116,
   "metadata": {},
   "outputs": [
    {
     "data": {
      "text/plain": [
       "array([\"'Nobody wants to see Paras as saint on Bigg Boss' While talking to the TimesofIndia.com exclusively, the Vighnaharta Ganesh actress shared that she is loving beau Paras' sanskari playboy image and is confident of him winning the show.\",\n",
       "       '6 stocks hit 52-week highs on NSE Among the stocks that touched their 52-week highs were BPCL, Cinevista and Whirlpool of India.',\n",
       "       '8 stocks hit 52-week highs on NSE Among the stocks that touched their 52-week highs were BPCL, Abbott India, Cinevista and Dixon Technologies.',\n",
       "       ...,\n",
       "       'Headgear may return for men in domestic events Nieva worried over cuts suffered by boxers',\n",
       "       'I’m living the dream as a professional cricketer: Marizanne Kapp Says playing outdoor cricket with the boys was a big step up',\n",
       "       'Iran vows response to attack on tanker Saudi offered help, but said the vessel shut off its tracking system without responding.'],\n",
       "      dtype=object)"
      ]
     },
     "execution_count": 116,
     "metadata": {},
     "output_type": "execute_result"
    }
   ],
   "source": [
    "test"
   ]
  },
  {
   "cell_type": "code",
   "execution_count": 117,
   "metadata": {},
   "outputs": [],
   "source": [
    "# predict using our trained model\n",
    "predicted_category = list(pipe.predict(test))"
   ]
  },
  {
   "cell_type": "markdown",
   "metadata": {},
   "source": [
    "### let's update by adding a column 'predicted_category' in MongoDB"
   ]
  },
  {
   "cell_type": "code",
   "execution_count": 118,
   "metadata": {},
   "outputs": [
    {
     "name": "stderr",
     "output_type": "stream",
     "text": [
      "100%|████████████████████████████████████████████████████████████████████████████| 3391/3391 [00:02<00:00, 1274.39it/s]\n"
     ]
    }
   ],
   "source": [
    "for i,x in tqdm(list(zip(ids,predicted_category))):\n",
    "#         print(i,x)\n",
    "        db['news_csv'].update_one({\"_id\" : i},{\"$set\": {\"predicted_category\":x}})"
   ]
  }
 ],
 "metadata": {
  "kernelspec": {
   "display_name": "Python 3",
   "language": "python",
   "name": "python3"
  },
  "language_info": {
   "codemirror_mode": {
    "name": "ipython",
    "version": 3
   },
   "file_extension": ".py",
   "mimetype": "text/x-python",
   "name": "python",
   "nbconvert_exporter": "python",
   "pygments_lexer": "ipython3",
   "version": "3.6.7"
  }
 },
 "nbformat": 4,
 "nbformat_minor": 2
}
